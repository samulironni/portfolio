{
 "cells": [
  {
   "cell_type": "code",
   "execution_count": 1,
   "metadata": {},
   "outputs": [],
   "source": [
    "import pandas as pd\n",
    "\n",
    "from sklearn.model_selection import train_test_split, KFold\n",
    "from sklearn.neighbors import KNeighborsClassifier\n",
    "from sklearn.metrics import accuracy_score\n",
    "\n"
   ]
  },
  {
   "cell_type": "code",
   "execution_count": 2,
   "metadata": {},
   "outputs": [],
   "source": [
    "sports = pd.read_excel(\"ToughestSports.xlsx\") "
   ]
  },
  {
   "cell_type": "markdown",
   "metadata": {},
   "source": [
    "60 Different Sports Compared with Needed Physical Attributes"
   ]
  },
  {
   "cell_type": "markdown",
   "metadata": {},
   "source": [
    "Endurance, Strength, Power, Speed, Agility, Flexibility, Nerves, Durability, Hand-Eye coordination, Analytical skills\n"
   ]
  },
  {
   "cell_type": "code",
   "execution_count": 3,
   "metadata": {},
   "outputs": [
    {
     "data": {
      "text/html": [
       "<div>\n",
       "<style scoped>\n",
       "    .dataframe tbody tr th:only-of-type {\n",
       "        vertical-align: middle;\n",
       "    }\n",
       "\n",
       "    .dataframe tbody tr th {\n",
       "        vertical-align: top;\n",
       "    }\n",
       "\n",
       "    .dataframe thead th {\n",
       "        text-align: right;\n",
       "    }\n",
       "</style>\n",
       "<table border=\"1\" class=\"dataframe\">\n",
       "  <thead>\n",
       "    <tr style=\"text-align: right;\">\n",
       "      <th></th>\n",
       "      <th>SPORT</th>\n",
       "      <th>END</th>\n",
       "      <th>STR</th>\n",
       "      <th>PWR</th>\n",
       "      <th>SPD</th>\n",
       "      <th>AGI</th>\n",
       "      <th>FLX</th>\n",
       "      <th>NER</th>\n",
       "      <th>DUR</th>\n",
       "      <th>HAN</th>\n",
       "      <th>ANA</th>\n",
       "      <th>TOTAL</th>\n",
       "      <th>RANK</th>\n",
       "    </tr>\n",
       "  </thead>\n",
       "  <tbody>\n",
       "    <tr>\n",
       "      <th>0</th>\n",
       "      <td>Boxing</td>\n",
       "      <td>8.63</td>\n",
       "      <td>8.13</td>\n",
       "      <td>8.63</td>\n",
       "      <td>6.38</td>\n",
       "      <td>6.25</td>\n",
       "      <td>4.38</td>\n",
       "      <td>8.88</td>\n",
       "      <td>8.50</td>\n",
       "      <td>7.00</td>\n",
       "      <td>5.63</td>\n",
       "      <td>72.375</td>\n",
       "      <td>1</td>\n",
       "    </tr>\n",
       "    <tr>\n",
       "      <th>1</th>\n",
       "      <td>Ice Hockey</td>\n",
       "      <td>7.25</td>\n",
       "      <td>7.13</td>\n",
       "      <td>7.88</td>\n",
       "      <td>7.75</td>\n",
       "      <td>7.63</td>\n",
       "      <td>4.88</td>\n",
       "      <td>6.00</td>\n",
       "      <td>8.25</td>\n",
       "      <td>7.50</td>\n",
       "      <td>7.50</td>\n",
       "      <td>71.750</td>\n",
       "      <td>2</td>\n",
       "    </tr>\n",
       "    <tr>\n",
       "      <th>2</th>\n",
       "      <td>Football</td>\n",
       "      <td>5.38</td>\n",
       "      <td>8.63</td>\n",
       "      <td>8.13</td>\n",
       "      <td>7.13</td>\n",
       "      <td>6.38</td>\n",
       "      <td>4.38</td>\n",
       "      <td>7.25</td>\n",
       "      <td>8.50</td>\n",
       "      <td>5.50</td>\n",
       "      <td>7.13</td>\n",
       "      <td>68.375</td>\n",
       "      <td>3</td>\n",
       "    </tr>\n",
       "    <tr>\n",
       "      <th>3</th>\n",
       "      <td>Basketball</td>\n",
       "      <td>7.38</td>\n",
       "      <td>6.25</td>\n",
       "      <td>6.50</td>\n",
       "      <td>7.25</td>\n",
       "      <td>8.13</td>\n",
       "      <td>5.63</td>\n",
       "      <td>4.13</td>\n",
       "      <td>7.75</td>\n",
       "      <td>7.50</td>\n",
       "      <td>7.38</td>\n",
       "      <td>67.875</td>\n",
       "      <td>4</td>\n",
       "    </tr>\n",
       "    <tr>\n",
       "      <th>4</th>\n",
       "      <td>Wrestling</td>\n",
       "      <td>6.63</td>\n",
       "      <td>8.38</td>\n",
       "      <td>7.13</td>\n",
       "      <td>5.13</td>\n",
       "      <td>6.38</td>\n",
       "      <td>7.50</td>\n",
       "      <td>5.00</td>\n",
       "      <td>6.75</td>\n",
       "      <td>4.25</td>\n",
       "      <td>6.38</td>\n",
       "      <td>63.500</td>\n",
       "      <td>5</td>\n",
       "    </tr>\n",
       "  </tbody>\n",
       "</table>\n",
       "</div>"
      ],
      "text/plain": [
       "        SPORT   END   STR   PWR   SPD   AGI   FLX   NER   DUR   HAN   ANA  \\\n",
       "0      Boxing  8.63  8.13  8.63  6.38  6.25  4.38  8.88  8.50  7.00  5.63   \n",
       "1  Ice Hockey  7.25  7.13  7.88  7.75  7.63  4.88  6.00  8.25  7.50  7.50   \n",
       "2    Football  5.38  8.63  8.13  7.13  6.38  4.38  7.25  8.50  5.50  7.13   \n",
       "3  Basketball  7.38  6.25  6.50  7.25  8.13  5.63  4.13  7.75  7.50  7.38   \n",
       "4   Wrestling  6.63  8.38  7.13  5.13  6.38  7.50  5.00  6.75  4.25  6.38   \n",
       "\n",
       "    TOTAL  RANK  \n",
       "0  72.375     1  \n",
       "1  71.750     2  \n",
       "2  68.375     3  \n",
       "3  67.875     4  \n",
       "4  63.500     5  "
      ]
     },
     "execution_count": 3,
     "metadata": {},
     "output_type": "execute_result"
    }
   ],
   "source": [
    "sports.head() "
   ]
  },
  {
   "cell_type": "code",
   "execution_count": 4,
   "metadata": {},
   "outputs": [],
   "source": [
    "Hard = sports.iloc[:20]\n",
    "Medium = sports.iloc [20:40]\n",
    "Easy = sports.iloc [40:]"
   ]
  },
  {
   "cell_type": "code",
   "execution_count": 5,
   "metadata": {},
   "outputs": [],
   "source": [
    "bins =[0,19,40,61]\n",
    "labels = [0, 1, 2] "
   ]
  },
  {
   "cell_type": "code",
   "execution_count": 6,
   "metadata": {},
   "outputs": [],
   "source": [
    "sports['TOTAL'] = pd.cut(sports.index, bins=bins, labels=labels, right=False)"
   ]
  },
  {
   "cell_type": "code",
   "execution_count": 7,
   "metadata": {},
   "outputs": [],
   "source": [
    "sports = sports.drop(columns=['RANK', 'SPORT'])\n",
    "x = sports.iloc[: ]\n",
    "y = sports.iloc[:, -1]"
   ]
  },
  {
   "cell_type": "code",
   "execution_count": 9,
   "metadata": {},
   "outputs": [],
   "source": [
    "x_train, x_test, y_train, y_test= train_test_split(x, y, test_size = 0.2, shuffle = True, random_state = 0)"
   ]
  },
  {
   "cell_type": "code",
   "execution_count": 10,
   "metadata": {},
   "outputs": [
    {
     "name": "stdout",
     "output_type": "stream",
     "text": [
      "[1 1 2 1 0 0 0 2 2 1 0 0]\n"
     ]
    }
   ],
   "source": [
    "K=10 # You should test the classifier with different values of K to see which value provides the best performance for your classifier\n",
    "knn=KNeighborsClassifier(K)\n",
    "knn.fit(x_train, y_train)\n",
    "y_pred_sklearn= knn.predict(x_test)\n",
    "print(y_pred_sklearn)"
   ]
  },
  {
   "cell_type": "code",
   "execution_count": 11,
   "metadata": {},
   "outputs": [
    {
     "data": {
      "text/plain": [
       "0.9166666666666666"
      ]
     },
     "execution_count": 11,
     "metadata": {},
     "output_type": "execute_result"
    }
   ],
   "source": [
    "accuracy_score(y_test, y_pred_sklearn)"
   ]
  },
  {
   "cell_type": "code",
   "execution_count": 12,
   "metadata": {},
   "outputs": [
    {
     "name": "stdout",
     "output_type": "stream",
     "text": [
      "0.6833333333333333\n"
     ]
    }
   ],
   "source": [
    "n_splits= 5 ## Choose the number of splits\n",
    "k=10\n",
    "kf= KFold(n_splits= n_splits, shuffle=True) ## Call the K Fold function. Note because of shuffle, the results may vary run by run\n",
    "summa=0\n",
    "\n",
    "for train_idx, test_idx in  kf.split(x): ## Loop over the splits\n",
    "    x_train = x.iloc[train_idx, :] ## fetch the values\n",
    "    x_test = x.iloc[test_idx, :]\n",
    "\n",
    "    y_train = y.iloc[train_idx] ## fetch the values\n",
    "    y_test = y.iloc[test_idx]\n",
    "\n",
    "    knn=KNeighborsClassifier(k)\n",
    "    knn.fit(x_train, y_train)\n",
    "\n",
    "    y_pred_test = knn.predict(x_test)\n",
    "\n",
    "    summa += accuracy_score(y_pred_test, y_test)   \n",
    "\n",
    "print(summa/n_splits)\n"
   ]
  }
 ],
 "metadata": {
  "kernelspec": {
   "display_name": "Python 3",
   "language": "python",
   "name": "python3"
  },
  "language_info": {
   "codemirror_mode": {
    "name": "ipython",
    "version": 3
   },
   "file_extension": ".py",
   "mimetype": "text/x-python",
   "name": "python",
   "nbconvert_exporter": "python",
   "pygments_lexer": "ipython3",
   "version": "3.11.5"
  }
 },
 "nbformat": 4,
 "nbformat_minor": 2
}
